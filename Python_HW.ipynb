{
 "cells": [
  {
   "cell_type": "code",
   "execution_count": 1,
   "id": "a78e5b2c-d19e-46a9-8671-ed29428e7298",
   "metadata": {},
   "outputs": [],
   "source": [
    "Data=[[\"Jan-2010\", 867884],\n",
    "    [\"Feb-2010\", 984655],\n",
    "    [\"Mar-2010\", 322013],\n",
    "    [\"Apr-2010\", -69417],\n",
    "    [\"May-2010\", 310503],\n",
    "    [\"Jun-2010\", 522857],\n",
    "    [\"Jul-2010\", 1033096],\n",
    "    [\"Aug-2010\", 604885],\n",
    "    [\"Sep-2010\", -216386],\n",
    "    [\"Oct-2010\", 477532],\n",
    "    [\"Nov-2010\", 893810],\n",
    "    [\"Dec-2010\", -80353],\n",
    "    [\"Jan-2011\", 779806],\n",
    "    [\"Feb-2011\", -335203],\n",
    "    [\"Mar-2011\", 697845],\n",
    "    [\"Apr-2011\", 793163],\n",
    "    [\"May-2011\", 485070],\n",
    "    [\"Jun-2011\", 584122],\n",
    "    [\"Jul-2011\", 62729],\n",
    "    [\"Aug-2011\", 668179],\n",
    "    [\"Sep-2011\", 899906],\n",
    "    [\"Oct-2011\", 834719],\n",
    "    [\"Nov-2011\", 132003],\n",
    "    [\"Dec-2011\", 309978],\n",
    "    [\"Jan-2012\", -755566],\n",
    "    [\"Feb-2012\", 1170593],\n",
    "    [\"Mar-2012\", 252788],\n",
    "    [\"Apr-2012\", 1151518],\n",
    "    [\"May-2012\", 817256],\n",
    "    [\"Jun-2012\", 570757],\n",
    "    [\"Jul-2012\", 506702],\n",
    "    [\"Aug-2012\", -1022534],\n",
    "    [\"Sep-2012\", 475062],\n",
    "    [\"Oct-2012\", 779976],\n",
    "    [\"Nov-2012\", 144175],\n",
    "    [\"Dec-2012\", 542494],\n",
    "    [\"Jan-2013\", 359333],\n",
    "    [\"Feb-2013\", 321469],\n",
    "    [\"Mar-2013\", 67780],\n",
    "    [\"Apr-2013\", 471435],\n",
    "    [\"May-2013\", 565603],\n",
    "    [\"Jun-2013\", 872480],\n",
    "    [\"Jul-2013\", 789480],\n",
    "    [\"Aug-2013\", 999942],\n",
    "    [\"Sep-2013\", -1196225],\n",
    "    [\"Oct-2013\", 268997],\n",
    "    [\"Nov-2013\", -687986],\n",
    "    [\"Dec-2013\", 1150461],\n",
    "    [\"Jan-2014\", 682458],\n",
    "    [\"Feb-2014\", 617856],\n",
    "    [\"Mar-2014\", 824098],\n",
    "    [\"Apr-2014\", 581943],\n",
    "    [\"May-2014\", 132864],\n",
    "    [\"Jun-2014\", 448062],\n",
    "    [\"Jul-2014\", 689161],\n",
    "    [\"Aug-2014\", 800701],\n",
    "    [\"Sep-2014\", 1166643],\n",
    "    [\"Oct-2014\", 947333],\n",
    "    [\"Nov-2014\", 578668],\n",
    "    [\"Dec-2014\", 988505],\n",
    "    [\"Jan-2015\", 1139715],\n",
    "    [\"Feb-2015\", 1029471],\n",
    "    [\"Mar-2015\", 687533],\n",
    "    [\"Apr-2015\", -524626],\n",
    "    [\"May-2015\", 158620],\n",
    "    [\"Jun-2015\", 87795],\n",
    "    [\"Jul-2015\", 423389],\n",
    "    [\"Aug-2015\", 840723],\n",
    "    [\"Sep-2015\", 568529],\n",
    "    [\"Oct-2015\", 332067],\n",
    "    [\"Nov-2015\", 989499],\n",
    "    [\"Dec-2015\", 778237],\n",
    "    [\"Jan-2016\", 650000],\n",
    "    [\"Feb-2016\", -1100387],\n",
    "    [\"Mar-2016\", -174946],\n",
    "    [\"Apr-2016\", 757143],\n",
    "    [\"May-2016\", 445709],\n",
    "    [\"Jun-2016\", 712961],\n",
    "    [\"Jul-2016\", -1163797],\n",
    "    [\"Aug-2016\", 569899],\n",
    "    [\"Sep-2016\", 768450],\n",
    "    [\"Oct-2016\", 102685],\n",
    "    [\"Nov-2016\", 795914],\n",
    "    [\"Dec-2016\", 60988],\n",
    "    [\"Jan-2017\", 138230],\n",
    "    [\"Feb-2017\", 671099]]\n"
   ]
  },
  {
   "cell_type": "code",
   "execution_count": 6,
   "id": "a4e719ce-e689-42e7-a9c8-7ff0ac30f949",
   "metadata": {},
   "outputs": [
    {
     "name": "stdout",
     "output_type": "stream",
     "text": [
      "Financial Analysis\n",
      "-----------------\n",
      "Total Months:  86\n"
     ]
    }
   ],
   "source": [
    "print(\"Financial Analysis\")\n",
    "print(\"-----------------\")\n",
    "print(\"Total Months: \", len(Data))"
   ]
  },
  {
   "cell_type": "code",
   "execution_count": 3,
   "id": "c37d7f49-b7f7-4cbf-8698-3a815af6271a",
   "metadata": {},
   "outputs": [
    {
     "name": "stdout",
     "output_type": "stream",
     "text": [
      "Total: $ 38382578\n"
     ]
    }
   ],
   "source": [
    "total=0.0\n",
    "\n",
    "for i in Data:\n",
    "    for x in i:\n",
    "        if type(x) == int: \n",
    "            total+=x\n",
    "print(\"Total: $\", int(total))              \n",
    "\n",
    "nums=[]"
   ]
  },
  {
   "cell_type": "code",
   "execution_count": 4,
   "id": "9c018923-cd32-4bf8-ad62-8b60b10b7969",
   "metadata": {},
   "outputs": [
    {
     "name": "stdout",
     "output_type": "stream",
     "text": [
      "Average Change: $ -2315.12\n"
     ]
    }
   ],
   "source": [
    "for i in Data:\n",
    "    for x in i:\n",
    "        if type(x) == int: \n",
    "            nums.append(x)\n",
    "changes=0.0\n",
    "highest=0\n",
    "lowest=0\n",
    "posH=0\n",
    "posL=0\n",
    "\n",
    "for i in range(0,len(nums)):\n",
    "    if i < len(nums)-1:\n",
    "        x1=nums[i]\n",
    "        x2=nums[i+1]\n",
    "        changeR=x2-x1\n",
    "        if changeR > highest:\n",
    "            highest=changeR\n",
    "            posH=i+1\n",
    "        if changeR < lowest:\n",
    "            lowest=changeR\n",
    "            posL=i+1\n",
    "        changes+= x2-x1\n",
    "changes=changes/85\n",
    "changes= round(changes,2)\n",
    "print(\"Average Change: $\", changes)"
   ]
  },
  {
   "cell_type": "code",
   "execution_count": 5,
   "id": "c7da1689-656f-4b60-921a-ce0bba5378bc",
   "metadata": {},
   "outputs": [
    {
     "name": "stdout",
     "output_type": "stream",
     "text": [
      "Greatest Increase in Profits:  Feb-2012  ($ 1926159 )\n",
      "Greatest Decrease in Profits:  Sep-2013  ($ -2196167 )\n"
     ]
    }
   ],
   "source": [
    "months=[]\n",
    "\n",
    "for i in Data:\n",
    "    for x in i:\n",
    "        if type(x) != int: \n",
    "            months.append(x)\n",
    "            \n",
    "highestmonth=months[posH]\n",
    "lowestmonth=months[posL]\n",
    "\n",
    "print(\"Greatest Increase in Profits: \", highestmonth, \" ($\", highest, \")\")\n",
    "print(\"Greatest Decrease in Profits: \", lowestmonth, \" ($\", lowest, \")\")"
   ]
  },
  {
   "cell_type": "code",
   "execution_count": 7,
   "id": "2cfcf3d5-b90d-4ea0-ad83-1781226fb151",
   "metadata": {},
   "outputs": [
    {
     "name": "stdout",
     "output_type": "stream",
     "text": [
      "Financial Analysis\n",
      "-----------------\n",
      "Total Months:  86\n",
      "Total: $ 38382578\n",
      "Average Change: $ -2315.12\n",
      "Greatest Increase in Profits:  Feb-2012  ($ 1926159 )\n",
      "Greatest Decrease in Profits:  Sep-2013  ($ -2196167 )\n"
     ]
    }
   ],
   "source": [
    "print(\"Financial Analysis\")\n",
    "print(\"-----------------\")\n",
    "print(\"Total Months: \", len(Data))\n",
    "print(\"Total: $\", int(total)) \n",
    "print(\"Average Change: $\", changes)\n",
    "print(\"Greatest Increase in Profits: \", highestmonth, \" ($\", highest, \")\")\n",
    "print(\"Greatest Decrease in Profits: \", lowestmonth, \" ($\", lowest, \")\")"
   ]
  },
  {
   "cell_type": "code",
   "execution_count": null,
   "id": "caba3a55-1ff6-4ac6-bc6a-666bd7ad9d90",
   "metadata": {},
   "outputs": [],
   "source": []
  }
 ],
 "metadata": {
  "kernelspec": {
   "display_name": "Python 3 (ipykernel)",
   "language": "python",
   "name": "python3"
  },
  "language_info": {
   "codemirror_mode": {
    "name": "ipython",
    "version": 3
   },
   "file_extension": ".py",
   "mimetype": "text/x-python",
   "name": "python",
   "nbconvert_exporter": "python",
   "pygments_lexer": "ipython3",
   "version": "3.9.7"
  }
 },
 "nbformat": 4,
 "nbformat_minor": 5
}
